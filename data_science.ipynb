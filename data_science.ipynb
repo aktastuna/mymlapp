{
 "cells": [
  {
   "cell_type": "code",
   "execution_count": 1,
   "id": "cd1a4f20-83a3-4328-80b4-bc7288109983",
   "metadata": {},
   "outputs": [],
   "source": [
    "import numpy as np\n",
    "import pandas as pd\n",
    "from sklearn.linear_model import LinearRegression\n",
    "import joblib"
   ]
  },
  {
   "cell_type": "code",
   "execution_count": 8,
   "id": "03e94e48-6c68-4fdb-b5a0-6d3b2e5a471b",
   "metadata": {},
   "outputs": [],
   "source": [
    "constant = np.random.randint(0, 5, 50)\n",
    "x = np.random.randint(0, 10, 50)\n",
    "y = constant + 3 * x"
   ]
  },
  {
   "cell_type": "code",
   "execution_count": 14,
   "id": "58e4d6d2-2451-4642-abf0-bbb450eeeaff",
   "metadata": {},
   "outputs": [],
   "source": [
    "df = pd.DataFrame({\"x\": x, \"y\": y})"
   ]
  },
  {
   "cell_type": "code",
   "execution_count": 15,
   "id": "4ee5f598-7ac7-455a-9d88-d5407c094289",
   "metadata": {},
   "outputs": [
    {
     "data": {
      "text/plain": [
       "LinearRegression()"
      ]
     },
     "execution_count": 15,
     "metadata": {},
     "output_type": "execute_result"
    }
   ],
   "source": [
    "model = LinearRegression()\n",
    "model.fit(x.reshape(-1, 1), df.y)"
   ]
  },
  {
   "cell_type": "code",
   "execution_count": 17,
   "id": "9122888e-1dab-4821-84c2-36d72436d144",
   "metadata": {},
   "outputs": [
    {
     "data": {
      "text/plain": [
       "['my_model']"
      ]
     },
     "execution_count": 17,
     "metadata": {},
     "output_type": "execute_result"
    }
   ],
   "source": [
    "joblib.dump(model, \"my_model\")"
   ]
  },
  {
   "cell_type": "code",
   "execution_count": 18,
   "id": "a1d9a4d8-1de1-4195-bb26-ccba5ba1eae0",
   "metadata": {},
   "outputs": [],
   "source": [
    "j_model = joblib.load(\"my_model\")"
   ]
  },
  {
   "cell_type": "code",
   "execution_count": null,
   "id": "cc4708dc-2064-471d-9f13-970ceef6461d",
   "metadata": {},
   "outputs": [],
   "source": []
  },
  {
   "cell_type": "code",
   "execution_count": null,
   "id": "cd0fdd7e-8618-4be2-a4f5-7cef6782aabe",
   "metadata": {},
   "outputs": [],
   "source": []
  },
  {
   "cell_type": "code",
   "execution_count": null,
   "id": "a940b88d-795b-4379-8e96-315648d3d11c",
   "metadata": {},
   "outputs": [],
   "source": []
  },
  {
   "cell_type": "code",
   "execution_count": null,
   "id": "b2476e13-a207-4184-8a1d-38f156d507ed",
   "metadata": {},
   "outputs": [],
   "source": [
    "import uvicorn\n",
    "from fastapi import FastAPI\n",
    "import numpy as np\n",
    "import joblib\n",
    "from pydantic.main import BaseModel\n",
    "\n",
    "app =  FastAPI(title=\"My ML App\")\n",
    "@app.get('/')\n",
    "def home():\n",
    "    return \"API is working as expected.\"\n",
    "\n",
    "if __name__ == \"__main__\":\n",
    "    uvicorn.run(app, host=\"127.0.0.1\", port=8000)"
   ]
  }
 ],
 "metadata": {
  "kernelspec": {
   "display_name": "Python 3 (ipykernel)",
   "language": "python",
   "name": "python3"
  },
  "language_info": {
   "codemirror_mode": {
    "name": "ipython",
    "version": 3
   },
   "file_extension": ".py",
   "mimetype": "text/x-python",
   "name": "python",
   "nbconvert_exporter": "python",
   "pygments_lexer": "ipython3",
   "version": "3.9.7"
  }
 },
 "nbformat": 4,
 "nbformat_minor": 5
}
